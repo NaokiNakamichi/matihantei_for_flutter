{
 "cells": [
  {
   "cell_type": "code",
   "execution_count": 1,
   "metadata": {
    "collapsed": true
   },
   "outputs": [],
   "source": [
    "import numpy as np\n",
    "from PIL import Image"
   ]
  },
  {
   "cell_type": "code",
   "execution_count": 2,
   "outputs": [],
   "source": [
    "class Read:\n",
    "    def __init__(self,path):\n",
    "\n",
    "        ### read jpeg file\n",
    "        self.img = Image.open(path)\n",
    "        self.im = np.array(self.img) # RGB\n",
    "\n",
    "k = Read(\"pai-images/man1-66-90-l-emb.png\")\n",
    "before = k.img\n",
    "\n",
    "# np配列に変換\n",
    "image_pixel = np.array(before)"
   ],
   "metadata": {
    "collapsed": false,
    "pycharm": {
     "name": "#%%\n"
    }
   }
  },
  {
   "cell_type": "code",
   "execution_count": 3,
   "outputs": [
    {
     "data": {
      "text/plain": "<PIL.PngImagePlugin.PngImageFile image mode=RGBA size=66x90 at 0x10441C190>",
      "image/png": "[encoded data removed]"
     },
     "execution_count": 3,
     "metadata": {},
     "output_type": "execute_result"
    }
   ],
   "source": [
    "before"
   ],
   "metadata": {
    "collapsed": false,
    "pycharm": {
     "name": "#%%\n"
    }
   }
  },
  {
   "cell_type": "code",
   "execution_count": 5,
   "outputs": [
    {
     "data": {
      "text/plain": "<PIL.Image.Image image mode=RGBA size=66x90 at 0x10312C040>",
      "image/png": "[encoded data removed]"
     },
     "execution_count": 5,
     "metadata": {},
     "output_type": "execute_result"
    }
   ],
   "source": [
    "pai_val = [\"man\",\"sou\",\"pin\"]\n",
    "\n",
    "k = Read(\"pai-images/man1-66-90-l-emb.png\")\n",
    "before = k.img\n",
    "before.point(lambda x: x * 0.5)"
   ],
   "metadata": {
    "collapsed": false,
    "pycharm": {
     "name": "#%%\n"
    }
   }
  },
  {
   "cell_type": "code",
   "execution_count": 8,
   "outputs": [],
   "source": [
    "for val in pai_val:\n",
    "    for i in range(1,10):\n",
    "        k = Read(\"pai-images/{}{}-66-90-l-emb.png\".format(val,i))\n",
    "        new = k.img.point(lambda x: x * 0.5)\n",
    "        new.save('created_image/{}_{}_kurai.png'.format(i,val), quality=95)"
   ],
   "metadata": {
    "collapsed": false,
    "pycharm": {
     "name": "#%%\n"
    }
   }
  },
  {
   "cell_type": "code",
   "execution_count": 9,
   "outputs": [],
   "source": [
    "for val in pai_val:\n",
    "    for i in range(1,10):\n",
    "        k = Read(\"pai-images/{}{}-66-90-l-emb.png\".format(val,i))\n",
    "        new = k.img\n",
    "        new.save('created_image/{}_{}.png'.format(i,val), quality=95)"
   ],
   "metadata": {
    "collapsed": false,
    "pycharm": {
     "name": "#%%\n"
    }
   }
  },
  {
   "cell_type": "code",
   "execution_count": null,
   "outputs": [],
   "source": [],
   "metadata": {
    "collapsed": false,
    "pycharm": {
     "name": "#%%\n"
    }
   }
  }
 ],
 "metadata": {
  "kernelspec": {
   "display_name": "Python 3",
   "language": "python",
   "name": "python3"
  },
  "language_info": {
   "codemirror_mode": {
    "name": "ipython",
    "version": 2
   },
   "file_extension": ".py",
   "mimetype": "text/x-python",
   "name": "python",
   "nbconvert_exporter": "python",
   "pygments_lexer": "ipython2",
   "version": "2.7.6"
  }
 },
 "nbformat": 4,
 "nbformat_minor": 0
}